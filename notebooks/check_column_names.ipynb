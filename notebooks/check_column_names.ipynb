{
 "cells": [
  {
   "cell_type": "markdown",
   "id": "cf31f6fa",
   "metadata": {},
   "source": [
    "# Check names of column"
   ]
  },
  {
   "cell_type": "code",
   "execution_count": 2,
   "id": "688de1e0",
   "metadata": {},
   "outputs": [
    {
     "name": "stdout",
     "output_type": "stream",
     "text": [
      "Requirement already satisfied: pyarrow in /Users/jonathanfung/anaconda3/lib/python3.11/site-packages (11.0.0)\n",
      "Requirement already satisfied: numpy>=1.16.6 in /Users/jonathanfung/anaconda3/lib/python3.11/site-packages (from pyarrow) (1.26.4)\n",
      "Note: you may need to restart the kernel to use updated packages.\n",
      "Shape (rows, cols): (76, 33)\n",
      "\n",
      "Column names:\n",
      "['indication/disease area', 'rare, non-rare (established disease area and clear diagnosis criteria)', 'mode of administration (ex. NBE, NCE, iv vs pill)', 'disease modifying or treating symptoms', 'population - adults vs peds', 'phase', '# patients', 'primary_outcomes', 'secondary_outcomes', 'other_outcomes', 'cohorts (sequential or parallel)', 'Eligibility Criteria: The stringency and number of eligibility criteria for participants', 'placebo included', 'safety cuts, DMCs', '# countries', '# sites', 'Study Start Date', 'Primary Completion Date', 'Study Full Completion Date', 'mask level ', 'sponsorship type', 'study type', 'minimum age', 'maximum age', 'Allocation (Randomised / Non-randomised)', 'FDA-regulated drug', 'FDA-regulated device', 'Primary Completion Type', 'Overall status', 'Number of arms', 'NCT ID', 'Brief Summary', 'Study First Submit Date']\n",
      "\n",
      "DataFrame info:\n",
      "<class 'pandas.core.frame.DataFrame'>\n",
      "RangeIndex: 76 entries, 0 to 75\n",
      "Data columns (total 33 columns):\n",
      " #   Column                                                                                    Non-Null Count  Dtype \n",
      "---  ------                                                                                    --------------  ----- \n",
      " 0   indication/disease area                                                                   76 non-null     object\n",
      " 1   rare, non-rare (established disease area and clear diagnosis criteria)                    67 non-null     object\n",
      " 2   mode of administration (ex. NBE, NCE, iv vs pill)                                         68 non-null     object\n",
      " 3   disease modifying or treating symptoms                                                    61 non-null     object\n",
      " 4   population - adults vs peds                                                               76 non-null     object\n",
      " 5   phase                                                                                     61 non-null     object\n",
      " 6   # patients                                                                                76 non-null     int64 \n",
      " 7   primary_outcomes                                                                          75 non-null     object\n",
      " 8   secondary_outcomes                                                                        51 non-null     object\n",
      " 9   other_outcomes                                                                            8 non-null      object\n",
      " 10  cohorts (sequential or parallel)                                                          60 non-null     object\n",
      " 11  Eligibility Criteria: The stringency and number of eligibility criteria for participants  76 non-null     object\n",
      " 12  placebo included                                                                          68 non-null     object\n",
      " 13  safety cuts, DMCs                                                                         61 non-null     object\n",
      " 14  # countries                                                                               0 non-null      object\n",
      " 15  # sites                                                                                   70 non-null     object\n",
      " 16  Study Start Date                                                                          76 non-null     object\n",
      " 17  Primary Completion Date                                                                   76 non-null     object\n",
      " 18  Study Full Completion Date                                                                72 non-null     object\n",
      " 19  mask level                                                                                61 non-null     object\n",
      " 20  sponsorship type                                                                          76 non-null     object\n",
      " 21  study type                                                                                76 non-null     object\n",
      " 22  minimum age                                                                               73 non-null     object\n",
      " 23  maximum age                                                                               42 non-null     object\n",
      " 24  Allocation (Randomised / Non-randomised)                                                  60 non-null     object\n",
      " 25  FDA-regulated drug                                                                        40 non-null     object\n",
      " 26  FDA-regulated device                                                                      40 non-null     object\n",
      " 27  Primary Completion Type                                                                   76 non-null     object\n",
      " 28  Overall status                                                                            76 non-null     object\n",
      " 29  Number of arms                                                                            65 non-null     object\n",
      " 30  NCT ID                                                                                    76 non-null     object\n",
      " 31  Brief Summary                                                                             76 non-null     object\n",
      " 32  Study First Submit Date                                                                   76 non-null     object\n",
      "dtypes: int64(1), object(32)\n",
      "memory usage: 19.7+ KB\n",
      "\n",
      "First 5 rows:\n",
      "\n",
      "Numeric summary:\n",
      "\n",
      "All-columns summary:\n"
     ]
    }
   ],
   "source": [
    "%pip install pyarrow\n",
    "\n",
    "import pandas as pd\n",
    "\n",
    "flat_path = \"/Users/jonathanfung/Library/Mobile Documents/com~apple~CloudDocs/UCL MSc DSML/MSc Project/data/interim/ctgov_flat.parquet\"\n",
    "\n",
    "# Load the DataFrame\n",
    "df = pd.read_parquet(flat_path)\n",
    "\n",
    "# Inspect basic shape and structure\n",
    "print(\"Shape (rows, cols):\", df.shape)     \n",
    "print(\"\\nColumn names:\")\n",
    "print(df.columns.tolist())      \n",
    "\n",
    "# Quick info on dtypes and non-null counts\n",
    "print(\"\\nDataFrame info:\")\n",
    "df.info()\n",
    "\n",
    "# Peek at the top rows\n",
    "print(\"\\nFirst 5 rows:\")\n",
    "df.head()\n",
    "\n",
    "# Summary statistics\n",
    "print(\"\\nNumeric summary:\")\n",
    "df.describe()\n",
    "\n",
    "print(\"\\nAll-columns summary:\")\n",
    "df.describe(include='all')           \n",
    "\n",
    "# Value counts for a key categorical field\n",
    "if \"overall_status\" in df.columns:\n",
    "    print(\"\\nCounts of overall_status:\")\n",
    "    print(df[\"overall_status\"].value_counts())\n"
   ]
  },
  {
   "cell_type": "code",
   "execution_count": null,
   "id": "0fbca08c-ef85-45d7-bb63-07a3a0f34bd8",
   "metadata": {},
   "outputs": [],
   "source": []
  }
 ],
 "metadata": {
  "kernelspec": {
   "display_name": "Python 3 (ipykernel)",
   "language": "python",
   "name": "python3"
  },
  "language_info": {
   "codemirror_mode": {
    "name": "ipython",
    "version": 3
   },
   "file_extension": ".py",
   "mimetype": "text/x-python",
   "name": "python",
   "nbconvert_exporter": "python",
   "pygments_lexer": "ipython3",
   "version": "3.11.4"
  }
 },
 "nbformat": 4,
 "nbformat_minor": 5
}
