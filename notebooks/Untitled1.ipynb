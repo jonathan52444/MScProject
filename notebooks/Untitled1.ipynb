{
 "cells": [
  {
   "cell_type": "markdown",
   "id": "1a4cf6fa",
   "metadata": {},
   "source": [
    "# Deriving Data‑Driven Weights for `complexity_score`\n",
    "\n",
    "> **Fit a regression on trial duration to let the data pick the weights for each complexity driver**.\n",
    "\n",
    "\n",
    "1. **Load** the feature table (`features_v2.parquet`).\n",
    "2. **Select & scale** candidate variables that plausibly drive operational complexity.\n",
    "3. **Fit** a regularised linear model (Ridge, with cross‑validated `alpha`) on `log(duration_days)`.\n",
    "4. **Inspect** the learned coefficients and compare with the current hand‑tuned formula.\n",
    "5. **Build** a new `complexity_score_reg` and explore its distribution.\n",
    "6. Optionally **export** the coefficients so you can hard‑code them back into the pipeline.\n",
    "\n",
    "Feel free to tweak the variable list, model family, or scaling strategy.\n"
   ]
  },
  {
   "cell_type": "code",
   "execution_count": 4,
   "id": "6ed5bae2",
   "metadata": {},
   "outputs": [
    {
     "name": "stdout",
     "output_type": "stream",
     "text": [
      "Loaded 277,566 rows\n"
     ]
    },
    {
     "data": {
      "text/html": [
       "<div>\n",
       "<style scoped>\n",
       "    .dataframe tbody tr th:only-of-type {\n",
       "        vertical-align: middle;\n",
       "    }\n",
       "\n",
       "    .dataframe tbody tr th {\n",
       "        vertical-align: top;\n",
       "    }\n",
       "\n",
       "    .dataframe thead th {\n",
       "        text-align: right;\n",
       "    }\n",
       "</style>\n",
       "<table border=\"1\" class=\"dataframe\">\n",
       "  <thead>\n",
       "    <tr style=\"text-align: right;\">\n",
       "      <th></th>\n",
       "      <th>count</th>\n",
       "      <th>mean</th>\n",
       "      <th>std</th>\n",
       "      <th>min</th>\n",
       "      <th>25%</th>\n",
       "      <th>50%</th>\n",
       "      <th>75%</th>\n",
       "      <th>max</th>\n",
       "    </tr>\n",
       "  </thead>\n",
       "  <tbody>\n",
       "    <tr>\n",
       "      <th>duration_days</th>\n",
       "      <td>277566.0</td>\n",
       "      <td>776.541053</td>\n",
       "      <td>672.188392</td>\n",
       "      <td>30.0</td>\n",
       "      <td>273.0</td>\n",
       "      <td>579.0</td>\n",
       "      <td>1096.0</td>\n",
       "      <td>3650.0</td>\n",
       "    </tr>\n",
       "  </tbody>\n",
       "</table>\n",
       "</div>"
      ],
      "text/plain": [
       "                  count        mean         std   min    25%    50%     75%  \\\n",
       "duration_days  277566.0  776.541053  672.188392  30.0  273.0  579.0  1096.0   \n",
       "\n",
       "                  max  \n",
       "duration_days  3650.0  "
      ]
     },
     "execution_count": 4,
     "metadata": {},
     "output_type": "execute_result"
    }
   ],
   "source": [
    "import pandas as pd\n",
    "from pathlib import Path\n",
    "\n",
    "FEATURES_PATH = Path(\n",
    "    \"/Users/jonathanfung/Library/Mobile Documents/com~apple~CloudDocs/\"\n",
    "    \"UCL MSc DSML/MSc Project/data/processed/features_v2.parquet\"\n",
    ")\n",
    "\n",
    "df = pd.read_parquet(FEATURES_PATH)\n",
    "print(f\"Loaded {len(df):,} rows\")\n",
    "\n",
    "# Quick sanity peek\n",
    "df[['duration_days']].describe().T\n",
    "\n"
   ]
  },
  {
   "cell_type": "code",
   "execution_count": 5,
   "id": "7121fa30",
   "metadata": {},
   "outputs": [
    {
     "name": "stdout",
     "output_type": "stream",
     "text": [
      "Total raw files (original): 542,076\n"
     ]
    }
   ],
   "source": [
    "df_raw = pd.read_parquet(\"/Users/jonathanfung/Library/Mobile Documents/com~apple~CloudDocs/UCL MSc DSML/MSc Project/data/interim/ctgov_flat.parquet\")\n",
    "print(f\"Total raw files (original): {len(df_raw):,}\")"
   ]
  },
  {
   "cell_type": "code",
   "execution_count": 4,
   "id": "5b6765be",
   "metadata": {},
   "outputs": [
    {
     "name": "stdout",
     "output_type": "stream",
     "text": [
      "Predictor matrix shape: (277566, 7)\n"
     ]
    }
   ],
   "source": [
    "import numpy as np\n",
    "from sklearn.preprocessing import RobustScaler\n",
    "\n",
    "# Candidate predictors\n",
    "complexity_vars = [\n",
    "    \"assessments_n\",\n",
    "    \"site_n\",\n",
    "    \"country_n\",\n",
    "    \"num_arms\",\n",
    "    \"masking_flag\",\n",
    "    \"placebo_flag\",\n",
    "    \"elig_len\",          # <-- raw length, not bucketed\n",
    "]\n",
    "\n",
    "X_raw = df[complexity_vars].fillna(0)\n",
    "scaler = RobustScaler()\n",
    "X = scaler.fit_transform(X_raw)\n",
    "\n",
    "y = np.log1p(df[\"duration_days\"])\n",
    "\n",
    "print(\"Predictor matrix shape:\", X.shape)\n"
   ]
  },
  {
   "cell_type": "code",
   "execution_count": 5,
   "id": "d460a203",
   "metadata": {},
   "outputs": [
    {
     "name": "stdout",
     "output_type": "stream",
     "text": [
      "Chosen alpha: 1000.0\n"
     ]
    },
    {
     "data": {
      "text/plain": [
       "elig_len         0.063259\n",
       "country_n        0.001437\n",
       "site_n           0.001437\n",
       "assessments_n    0.000000\n",
       "masking_flag     0.000000\n",
       "placebo_flag    -0.067919\n",
       "num_arms        -0.098776\n",
       "dtype: float64"
      ]
     },
     "execution_count": 5,
     "metadata": {},
     "output_type": "execute_result"
    }
   ],
   "source": [
    "from sklearn.linear_model import RidgeCV\n",
    "import pandas as pd\n",
    "import numpy as np\n",
    "\n",
    "alphas = np.logspace(-3, 3, 13)     # 0.001 … 1000\n",
    "ridge = RidgeCV(alphas=alphas, cv=5).fit(X, y)\n",
    "\n",
    "print(\"Chosen alpha:\", ridge.alpha_)\n",
    "\n",
    "coef = pd.Series(ridge.coef_, index=complexity_vars)\n",
    "coef.sort_values(ascending=False)\n"
   ]
  },
  {
   "cell_type": "code",
   "execution_count": 6,
   "id": "099bd17c",
   "metadata": {},
   "outputs": [
    {
     "data": {
      "text/html": [
       "<div>\n",
       "<style scoped>\n",
       "    .dataframe tbody tr th:only-of-type {\n",
       "        vertical-align: middle;\n",
       "    }\n",
       "\n",
       "    .dataframe tbody tr th {\n",
       "        vertical-align: top;\n",
       "    }\n",
       "\n",
       "    .dataframe thead th {\n",
       "        text-align: right;\n",
       "    }\n",
       "</style>\n",
       "<table border=\"1\" class=\"dataframe\">\n",
       "  <thead>\n",
       "    <tr style=\"text-align: right;\">\n",
       "      <th></th>\n",
       "      <th>complexity_score</th>\n",
       "      <th>complexity_score_reg</th>\n",
       "    </tr>\n",
       "  </thead>\n",
       "  <tbody>\n",
       "    <tr>\n",
       "      <th>count</th>\n",
       "      <td>277566.000000</td>\n",
       "      <td>277566.000000</td>\n",
       "    </tr>\n",
       "    <tr>\n",
       "      <th>mean</th>\n",
       "      <td>16.549639</td>\n",
       "      <td>0.903668</td>\n",
       "    </tr>\n",
       "    <tr>\n",
       "      <th>std</th>\n",
       "      <td>65.607078</td>\n",
       "      <td>1.311514</td>\n",
       "    </tr>\n",
       "    <tr>\n",
       "      <th>min</th>\n",
       "      <td>1.000000</td>\n",
       "      <td>0.000000</td>\n",
       "    </tr>\n",
       "    <tr>\n",
       "      <th>25%</th>\n",
       "      <td>3.000000</td>\n",
       "      <td>0.256468</td>\n",
       "    </tr>\n",
       "    <tr>\n",
       "      <th>50%</th>\n",
       "      <td>5.000000</td>\n",
       "      <td>0.468081</td>\n",
       "    </tr>\n",
       "    <tr>\n",
       "      <th>75%</th>\n",
       "      <td>7.000000</td>\n",
       "      <td>1.060199</td>\n",
       "    </tr>\n",
       "    <tr>\n",
       "      <th>max</th>\n",
       "      <td>7023.000000</td>\n",
       "      <td>100.000000</td>\n",
       "    </tr>\n",
       "  </tbody>\n",
       "</table>\n",
       "</div>"
      ],
      "text/plain": [
       "       complexity_score  complexity_score_reg\n",
       "count     277566.000000         277566.000000\n",
       "mean          16.549639              0.903668\n",
       "std           65.607078              1.311514\n",
       "min            1.000000              0.000000\n",
       "25%            3.000000              0.256468\n",
       "50%            5.000000              0.468081\n",
       "75%            7.000000              1.060199\n",
       "max         7023.000000            100.000000"
      ]
     },
     "execution_count": 6,
     "metadata": {},
     "output_type": "execute_result"
    }
   ],
   "source": [
    "# Use only positive contributions (clip negatives to 0 to keep monotonicity)\n",
    "w_pos = coef.clip(lower=0)\n",
    "\n",
    "df['complexity_score_reg'] = (X * w_pos.values).sum(axis=1)\n",
    "\n",
    "# Rescale 0–100 for explainability\n",
    "min_, max_ = df['complexity_score_reg'].min(), df['complexity_score_reg'].max()\n",
    "df['complexity_score_reg'] = 100 * (df['complexity_score_reg'] - min_) / (max_ - min_)\n",
    "\n",
    "df[['complexity_score', 'complexity_score_reg']].describe()\n"
   ]
  },
  {
   "cell_type": "code",
   "execution_count": 7,
   "id": "49b7a8f3",
   "metadata": {},
   "outputs": [
    {
     "data": {
      "image/png": "[encoded data removed]",
      "text/plain": [
       "<Figure size 1200x400 with 2 Axes>"
      ]
     },
     "metadata": {},
     "output_type": "display_data"
    }
   ],
   "source": [
    "import matplotlib.pyplot as plt\n",
    "\n",
    "fig, axes = plt.subplots(1, 2, figsize=(12, 4))\n",
    "axes[0].hist(df['complexity_score'].clip(upper=df['complexity_score'].quantile(0.99)), bins=30)\n",
    "axes[0].set_title('Old complexity_score (99th pct clipped)')\n",
    "axes[0].set_xlabel('score')\n",
    "\n",
    "axes[1].hist(df['complexity_score_reg'], bins=30)\n",
    "axes[1].set_title('New complexity_score_reg (0–100 scaled)')\n",
    "axes[1].set_xlabel('score')\n",
    "\n",
    "plt.tight_layout()\n",
    "plt.show()\n"
   ]
  },
  {
   "cell_type": "code",
   "execution_count": 8,
   "id": "c2578c94",
   "metadata": {},
   "outputs": [
    {
     "name": "stdout",
     "output_type": "stream",
     "text": [
      "Saved weights to /Users/jonathanfung/Library/Mobile Documents/com~apple~CloudDocs/UCL MSc DSML/MSc Project/data/processed/complexity_weights_ridge.json\n"
     ]
    }
   ],
   "source": [
    "# Optional: export weights to JSON / CSV\n",
    "weights_path = FEATURES_PATH.parent / 'complexity_weights_ridge.json'\n",
    "coef.to_json(weights_path, indent=2)\n",
    "print(\"Saved weights to\", weights_path)\n"
   ]
  },
  {
   "cell_type": "code",
   "execution_count": null,
   "id": "9b24bb1b",
   "metadata": {},
   "outputs": [],
   "source": []
  }
 ],
 "metadata": {
  "kernelspec": {
   "display_name": "Python 3 (ipykernel)",
   "language": "python",
   "name": "python3"
  },
  "language_info": {
   "codemirror_mode": {
    "name": "ipython",
    "version": 3
   },
   "file_extension": ".py",
   "mimetype": "text/x-python",
   "name": "python",
   "nbconvert_exporter": "python",
   "pygments_lexer": "ipython3",
   "version": "3.11.4"
  }
 },
 "nbformat": 4,
 "nbformat_minor": 5
}
