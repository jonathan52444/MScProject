{
 "cells": [
  {
   "cell_type": "code",
   "execution_count": 6,
   "id": "65066e43",
   "metadata": {},
   "outputs": [
    {
     "name": "stdout",
     "output_type": "stream",
     "text": [
      "Project root → /Users/jonathanfung/Library/Mobile Documents/com~apple~CloudDocs/UCL MSc DSML/MSc Project/notebooks\n",
      "Mapping      → /Users/jonathanfung/Library/Mobile Documents/com~apple~CloudDocs/UCL MSc DSML/MSc Project/ctgov_mapping_v1.xlsx\n",
      "Raw dir      → /Users/jonathanfung/Library/Mobile Documents/com~apple~CloudDocs/UCL MSc DSML/MSc Project/notebooks/data/raw\n",
      "Interim dir  → /Users/jonathanfung/Library/Mobile Documents/com~apple~CloudDocs/UCL MSc DSML/MSc Project/notebooks/data/interim\n"
     ]
    }
   ],
   "source": [
    "import pathlib, requests, json, pandas as pd\n",
    "from pathlib import Path\n",
    "\n",
    "# Find the project root = folder that contains data\n",
    "root = pathlib.Path.cwd()\n",
    "while not (root / \"data\").exists() and root.parent != root:\n",
    "    root = root.parent\n",
    "assert (root / \"data\").exists(), \"Launch Jupyter inside your project tree, or add a 'data' folder.\"\n",
    "\n",
    "# Key paths\n",
    "RAW_DIR      = root / \"data\" / \"raw\"\n",
    "INTERIM_DIR  = root / \"data\" / \"interim\"\n",
    "MAPPING_FILE = Path(\"/Users/jonathanfung/Library/Mobile Documents/com~apple~CloudDocs/\"\n",
    "                    \"UCL MSc DSML/MSc Project/ctgov_mapping_v1.xlsx\")\n",
    "# Ensure folders exist\n",
    "RAW_DIR.mkdir(parents=True, exist_ok=True)\n",
    "INTERIM_DIR.mkdir(parents=True, exist_ok=True)\n",
    "\n",
    "print(\"Project root →\", root)\n",
    "print(\"Mapping      →\", MAPPING_FILE)\n",
    "print(\"Raw dir      →\", RAW_DIR)\n",
    "print(\"Interim dir  →\", INTERIM_DIR)"
   ]
  },
  {
   "cell_type": "code",
   "execution_count": 7,
   "id": "007aa888",
   "metadata": {},
   "outputs": [
    {
     "name": "stdout",
     "output_type": "stream",
     "text": [
      "\n",
      "Saved payload → /Users/jonathanfung/Library/Mobile Documents/com~apple~CloudDocs/UCL MSc DSML/MSc Project/notebooks/data/raw/sample_1k.json   |   contains 1000 studies\n"
     ]
    }
   ],
   "source": [
    "url = \"https://clinicaltrials.gov/api/v2/studies?pageSize=1000&format=json\"\n",
    "payload = requests.get(url, timeout=60).json()\n",
    "\n",
    "sample_json = RAW_DIR / \"sample_1k.json\"\n",
    "sample_json.write_text(json.dumps(payload))\n",
    "print(f\"\\nSaved payload → {sample_json}   |   contains {len(payload['studies'])} studies\")\n"
   ]
  },
  {
   "cell_type": "code",
   "execution_count": 8,
   "id": "634f4b03",
   "metadata": {},
   "outputs": [
    {
     "name": "stdout",
     "output_type": "stream",
     "text": [
      "\n",
      "Sample table shape: (1000, 26)\n",
      "\n",
      "All paths resolved without exceptions ✅\n",
      "\n",
      "✅ No columns are completely NaN\n",
      "\n",
      "Flattened sample saved → /Users/jonathanfung/Library/Mobile Documents/com~apple~CloudDocs/UCL MSc DSML/MSc Project/notebooks/data/interim/sample_1k.parquet\n"
     ]
    }
   ],
   "source": [
    "map_df = pd.read_excel(MAPPING_FILE).dropna(subset=[\"ctgov_field\"])\n",
    "PATHS  = dict(map_df[[\"variable_wishlist\", \"ctgov_field\"]].values)\n",
    "\n",
    "\n",
    "def get_nested(obj, dotted):\n",
    "    cur = obj\n",
    "    for tok in dotted.split('.'):\n",
    "        if cur is None:\n",
    "            return None\n",
    "        # array index, e.g. foo[0]\n",
    "        if '[' in tok:\n",
    "            key, idx = tok[:-1].split('[')\n",
    "            if not isinstance(cur, dict):\n",
    "                return None\n",
    "            cur = cur.get(key)\n",
    "            if not (isinstance(cur, list) and cur):\n",
    "                return None\n",
    "            try:\n",
    "                cur = cur[int(idx)]\n",
    "            except (ValueError, IndexError):\n",
    "                return None\n",
    "        # plain dict key\n",
    "        else:\n",
    "            if not isinstance(cur, dict):\n",
    "                return None\n",
    "            cur = cur.get(tok)\n",
    "    return cur\n",
    "\n",
    "# Extended resolver that understands the | notation\n",
    "# one path : simple value\n",
    "# two paths: treat both as ISO dates, return (date2-date1).days\n",
    "def value_from_paths(study, path_string):\n",
    "    paths = [p.strip() for p in path_string.split('|')]\n",
    "    if len(paths) == 1:\n",
    "        return get_nested(study, paths[0])\n",
    "\n",
    "    if len(paths) == 2:               # attempt date difference\n",
    "        v1, v2 = (get_nested(study, p) for p in paths)\n",
    "        if v1 and v2:\n",
    "            try:\n",
    "                d1 = datetime.fromisoformat(v1.split('T')[0])\n",
    "                d2 = datetime.fromisoformat(v2.split('T')[0])\n",
    "                return (d2 - d1).days\n",
    "            except ValueError:\n",
    "                pass\n",
    "    return None                       # fallback\n",
    "\n",
    "# Flatten all 1 000 studies\n",
    "bad_paths = set()\n",
    "rows = []\n",
    "\n",
    "for study in payload[\"studies\"]:              # 'payload' made in Cell 2\n",
    "    row = {}\n",
    "    for var, path_str in PATHS.items():\n",
    "        try:\n",
    "            row[var] = value_from_paths(study, path_str)\n",
    "        except Exception:                     # should be rare now\n",
    "            bad_paths.add((var, path_str))\n",
    "            row[var] = None\n",
    "    rows.append(row)\n",
    "\n",
    "df = pd.DataFrame(rows)\n",
    "print(\"\\nSample table shape:\", df.shape)\n",
    "\n",
    "# Report any paths that still blow up\n",
    "if bad_paths:\n",
    "    print(\"\\n⚠️  Paths that raised an exception:\")\n",
    "    for v, p in bad_paths:\n",
    "        print(f\"  • {v:28s} → {p}\")\n",
    "else:\n",
    "    print(\"\\nAll paths resolved without exceptions ✅\")\n",
    "\n",
    "# Columns still 100 % NaN  (likely not in metadata)\n",
    "all_nan = df.columns[df.isna().all()]s\n",
    "if len(all_nan):\n",
    "    print(\"\\n⚠️  Columns 100 % NaN:\", list(all_nan))\n",
    "else:\n",
    "    print(\"\\n✅ No columns are completely NaN\")\n",
    "\n",
    "# Save parquet (ensure interim dir exists even if Cell 1 wasn’t run\n",
    "if 'INTERIM_DIR' not in globals():\n",
    "    INTERIM_DIR = pathlib.Path(\"data/interim\")\n",
    "    INTERIM_DIR.mkdir(parents=True, exist_ok=True)\n",
    "\n",
    "out_file = INTERIM_DIR / \"sample_1k.parquet\"\n",
    "df.to_parquet(out_file, index=False)\n",
    "print(\"\\nFlattened sample saved →\", out_file)"
   ]
  },
  {
   "cell_type": "code",
   "execution_count": null,
   "id": "b283a212",
   "metadata": {},
   "outputs": [],
   "source": []
  }
 ],
 "metadata": {
  "kernelspec": {
   "display_name": "Python 3 (ipykernel)",
   "language": "python",
   "name": "python3"
  },
  "language_info": {
   "codemirror_mode": {
    "name": "ipython",
    "version": 3
   },
   "file_extension": ".py",
   "mimetype": "text/x-python",
   "name": "python",
   "nbconvert_exporter": "python",
   "pygments_lexer": "ipython3",
   "version": "3.11.4"
  }
 },
 "nbformat": 4,
 "nbformat_minor": 5
}
