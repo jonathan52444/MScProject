{
 "cells": [
  {
   "cell_type": "markdown",
   "id": "52445717",
   "metadata": {},
   "source": [
    "# TrialDura ↔ src Dataset Alignment "
   ]
  },
  {
   "cell_type": "markdown",
   "id": "582c449f",
   "metadata": {},
   "source": [
    "Objective – Keep only the NCT IDs that also appear in features_v3.parquet (src pipeline) and create the same 2019 train/test split for TrialDura."
   ]
  },
  {
   "cell_type": "markdown",
   "id": "cca0bc8c",
   "metadata": {},
   "source": [
    "Prerequisites: <br>\n",
    "• `data/time_prediction_input.csv` freshly rebuilt<br>\n",
    "• `data/src_nctids.txt` (279 203 IDs)"
   ]
  },
  {
   "cell_type": "code",
   "execution_count": 1,
   "id": "c0a307dd",
   "metadata": {
    "scrolled": true
   },
   "outputs": [
    {
     "name": "stdout",
     "output_type": "stream",
     "text": [
      "['indication/disease area',\n",
      " 'rare, non-rare (established disease area and clear diagnosis criteria)',\n",
      " 'mode of administration (ex. NBE, NCE, iv vs pill)',\n",
      " 'disease modifying or treating symptoms',\n",
      " 'population - adults vs peds',\n",
      " 'phase',\n",
      " '# patients',\n",
      " 'primary_outcomes',\n",
      " 'secondary_outcomes',\n",
      " 'other_outcomes',\n",
      " 'cohorts (sequential or parallel)',\n",
      " 'Eligibility Criteria: The stringency and number of eligibility criteria for '\n",
      " 'participants',\n",
      " 'placebo included',\n",
      " '# safety cuts, DMCs',\n",
      " '# sites',\n",
      " 'Study Start Date',\n",
      " 'Primary Completion Date',\n",
      " 'mask level',\n",
      " 'sponsorship type',\n",
      " 'study type',\n",
      " 'minimum age',\n",
      " 'maximum age',\n",
      " 'Allocation (Randomised / Non-randomised)',\n",
      " 'FDA-regulated drug',\n",
      " 'FDA-regulated device',\n",
      " 'Primary Completion Type',\n",
      " 'Overall status',\n",
      " 'Number of arms',\n",
      " 'NCT',\n",
      " 'start_date',\n",
      " 'complete_date',\n",
      " 'duration_days',\n",
      " 'start_year',\n",
      " 'sponsor_class',\n",
      " 'condition_top',\n",
      " 'therapeutic_area',\n",
      " 'intervention_type',\n",
      " 'site_n',\n",
      " 'country_n',\n",
      " 'assessments_n',\n",
      " 'assessments_complexity',\n",
      " 'screen fail rate',\n",
      " 'evaluability / drop out rate',\n",
      " 'safety events',\n",
      " 'num_arms',\n",
      " 'masking_flag',\n",
      " 'placebo_flag',\n",
      " 'active_prob',\n",
      " 'elig_crit_n',\n",
      " 'freq_in_window',\n",
      " 'novelty_score',\n",
      " 'patients_per_site',\n",
      " 'global_trial',\n",
      " 'complexity_score_100',\n",
      " 'attractiveness_score_100']\n",
      "… total 55 columns\n"
     ]
    }
   ],
   "source": [
    "import pyarrow.parquet as pq, textwrap, pprint\n",
    "import pandas as pd, pathlib\n",
    "\n",
    "cols = pq.read_schema(\n",
    "    \"/Users/jonathanfung/Library/Mobile Documents/com~apple~CloudDocs/UCL MSc DSML/MSc Project/data/processed/features_v3.parquet\"\n",
    ").names\n",
    "pprint.pprint(cols[:60])      # first 60 column names\n",
    "print(\"… total\", len(cols), \"columns\")\n"
   ]
  },
  {
   "cell_type": "code",
   "execution_count": 2,
   "id": "c0ceecd5",
   "metadata": {},
   "outputs": [
    {
     "name": "stdout",
     "output_type": "stream",
     "text": [
      "✅  saved 279203 IDs to data/src_nctids.txt\n"
     ]
    }
   ],
   "source": [
    "tbl = pd.read_parquet(\n",
    "    \"/Users/jonathanfung/Library/Mobile Documents/com~apple~CloudDocs/UCL MSc DSML/MSc Project/data/processed/features_v3.parquet\"\n",
    ")\n",
    "\n",
    "ids = tbl[\"NCT\"].dropna().astype(str).unique()\n",
    "pd.Series(ids).to_csv(\"data/src_nctids.txt\", index=False, header=False)\n",
    "\n",
    "print(\"✅  saved\", len(ids), \"IDs to data/src_nctids.txt\")\n"
   ]
  },
  {
   "cell_type": "markdown",
   "id": "6bb037c0",
   "metadata": {},
   "source": [
    "## Trim TrialDura’s merged CSV to only those IDs"
   ]
  },
  {
   "cell_type": "code",
   "execution_count": 3,
   "id": "1cd2fd50",
   "metadata": {},
   "outputs": [
    {
     "name": "stdout",
     "output_type": "stream",
     "text": [
      "Before filter: 308369\n",
      "After  filter : 279194\n"
     ]
    }
   ],
   "source": [
    "keep = set(pd.read_csv(\"data/src_nctids.txt\", header=None)[0])\n",
    "\n",
    "td = pd.read_csv(\"/Users/jonathanfung/Library/Mobile Documents/com~apple~CloudDocs/UCL MSc DSML/MSc Project/TrialDura/data/time_prediction_input.csv\", sep=\"\\t\")\n",
    "print(\"Before filter:\", len(td))\n",
    "\n",
    "td = td[td[\"nctid\"].isin(keep)]\n",
    "td.to_csv(\"/Users/jonathanfung/Library/Mobile Documents/com~apple~CloudDocs/UCL MSc DSML/MSc Project/TrialDura/data/time_prediction_input_MATCHED.csv\", sep=\"\\t\", index=False)\n",
    "\n",
    "print(\"After  filter :\", len(td))   # should equal the ID count above\n"
   ]
  },
  {
   "cell_type": "code",
   "execution_count": 4,
   "id": "2cea6b38",
   "metadata": {},
   "outputs": [
    {
     "name": "stdout",
     "output_type": "stream",
     "text": [
      "rows in TrialDura CSV: 279194\n"
     ]
    }
   ],
   "source": [
    "CSV = pathlib.Path(\n",
    "    \"/Users/jonathanfung/Library/Mobile Documents/com~apple~CloudDocs/UCL MSc DSML/MSc Project/TrialDura/data/time_prediction_input_MATCHED.csv\"\n",
    ")\n",
    "\n",
    "td = pd.read_csv(CSV, sep=\"\\t\")\n",
    "print(\"rows in TrialDura CSV:\", len(td))\n"
   ]
  },
  {
   "cell_type": "code",
   "execution_count": 5,
   "id": "d8d42073",
   "metadata": {},
   "outputs": [
    {
     "name": "stdout",
     "output_type": "stream",
     "text": [
      "IDs missing in TrialDura: 9\n",
      "['NCT01161732', 'NCT01199562', 'NCT01287871', 'NCT02823522', 'NCT04441268', 'NCT04537273', 'NCT05219656', 'NCT05521854', 'NCT05618041']\n"
     ]
    }
   ],
   "source": [
    "src_ids = set(pd.read_csv(\"data/src_nctids.txt\", header=None)[0])\n",
    "td_ids  = set(pd.read_csv(\n",
    "    \"/Users/jonathanfung/Library/Mobile Documents/com~apple~CloudDocs/UCL MSc DSML/MSc Project/TrialDura/data/time_prediction_input.csv\",\n",
    "    sep=\"\\t\")[\"nctid\"])\n",
    "\n",
    "missing = src_ids - td_ids\n",
    "print(\"IDs missing in TrialDura:\", len(missing))\n",
    "print(sorted(list(missing))[:9])\n"
   ]
  },
  {
   "cell_type": "markdown",
   "id": "69a7c25c",
   "metadata": {},
   "source": [
    "## Create 2019 split"
   ]
  },
  {
   "cell_type": "code",
   "execution_count": 6,
   "id": "601512e8",
   "metadata": {},
   "outputs": [
    {
     "name": "stdout",
     "output_type": "stream",
     "text": [
      "✔ train: (161870, 13) test: (79233, 13)\n"
     ]
    }
   ],
   "source": [
    "df = pd.read_csv(\n",
    "    \"/Users/jonathanfung/Library/Mobile Documents/com~apple~CloudDocs/UCL MSc DSML/MSc Project/TrialDura/data/time_prediction_input_MATCHED.csv\", sep=\"\\t\"\n",
    ")\n",
    "\n",
    "# same date rule the paper uses\n",
    "df[\"start_year\"]      = df[\"start_date\"].str[-4:]\n",
    "df[\"completion_year\"] = df[\"completion_date\"].str[-4:]\n",
    "\n",
    "train = df[df[\"completion_year\"] <  \"2019\"]\n",
    "test  = df[df[\"start_year\"]      >= \"2019\"]\n",
    "\n",
    "train.to_csv(\"data/time_prediction_train.csv\", sep=\"\\t\", index=False)\n",
    "test.to_csv(\"data/time_prediction_test.csv\",  sep=\"\\t\", index=False)\n",
    "\n",
    "print(\"✔ train:\", train.shape, \"test:\", test.shape)\n"
   ]
  },
  {
   "cell_type": "code",
   "execution_count": null,
   "id": "951f7a44",
   "metadata": {},
   "outputs": [],
   "source": []
  }
 ],
 "metadata": {
  "kernelspec": {
   "display_name": "Python 3 (ipykernel)",
   "language": "python",
   "name": "python3"
  },
  "language_info": {
   "codemirror_mode": {
    "name": "ipython",
    "version": 3
   },
   "file_extension": ".py",
   "mimetype": "text/x-python",
   "name": "python",
   "nbconvert_exporter": "python",
   "pygments_lexer": "ipython3",
   "version": "3.11.4"
  }
 },
 "nbformat": 4,
 "nbformat_minor": 5
}
