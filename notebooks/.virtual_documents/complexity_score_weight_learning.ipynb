


# Imports & paths
from sklearn.impute import SimpleImputer
from sklearn.preprocessing import QuantileTransformer
from sklearn.compose import ColumnTransformer
from sklearn.pipeline import Pipeline
from sklearn.linear_model import RidgeCV
import numpy as np, pandas as pd, pickle, json, matplotlib.pyplot as plt
from pathlib import Path


FEATURES_PATH = Path("/Users/jonathanfung/Library/Mobile Documents/com~apple~CloudDocs/"
                     "UCL MSc DSML/MSc Project/data/processed/features_v4.parquet")
ARTIFACT_DIR  = FEATURES_PATH.parent / "complexity_score_artifacts"
ARTIFACT_DIR.mkdir(exist_ok=True)


# Load feature table
df = pd.read_parquet(FEATURES_PATH)
print(f"Loaded {len(df):,} rows")
display(df.head())


# Column lists (paper spec)
design_cols = [
    "site_n", "country_n", "assessments_n",
    "elig_crit_n", "num_arms", "# patients",
]
target   = np.log(df["duration_days"].values)


# Define inputs (exact paper spec)
design_cols = [
    "site_n",
    "country_n",
    "assessments_n",
    "elig_crit_n",
    "num_arms",
    "# patients",
]

y = np.log(df["duration_days"].values)          # target



# Pre-processing pipeline with imputers
num_pipe = Pipeline([
    ("imp", SimpleImputer(strategy="median")),
    ("pct", QuantileTransformer(output_distribution="uniform",
                                n_quantiles=min(1000, len(df))))
])

pre = ColumnTransformer(
    [("num", num_pipe, design_cols)],
    remainder="drop",
)


# RidgeCV fit
alphas = np.logspace(-3, 3, 31)
ridge  = RidgeCV(alphas=alphas, cv=5, fit_intercept=True)

model = Pipeline([("pre", pre), ("ridge", ridge)])
model.fit(df, target)

print("Best λ:", model.named_steps["ridge"].alpha_)



# Extract β and build 0–100 score 
beta = model.named_steps["ridge"].coef_

# raw score
X = model.named_steps["pre"].transform(df)
raw = (X * beta).sum(axis=1)

Smin, Smax = raw.min(), raw.max()
df["complexity_score_100"] = 100 * (raw - Smin) / (Smax - Smin)

plt.hist(df["complexity_score_100"], bins=30); plt.show()



# Save artefacts 
with open(ARTIFACT_DIR / "complexity_score_model.pkl", "wb") as f:
    pickle.dump({
        "pipeline": model,
        "beta": beta,
        "Smin": Smin,
        "Smax": Smax,
        "design_cols": design_cols,
    }, f)

pd.DataFrame({"feature": design_cols,        
              "beta": beta}) \
  .to_json(ARTIFACT_DIR / "complexity_beta.json", orient="records", indent=2)

print("Saved to", ARTIFACT_DIR)







