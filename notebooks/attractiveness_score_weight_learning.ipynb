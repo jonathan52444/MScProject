{
 "cells": [
  {
   "cell_type": "code",
   "execution_count": 21,
   "id": "5f82aea9",
   "metadata": {},
   "outputs": [],
   "source": [
    "# Import weights\n",
    "from pathlib import Path\n",
    "import numpy as np, pandas as pd, pickle, json, matplotlib.pyplot as plt\n",
    "from sklearn.impute import SimpleImputer\n",
    "from sklearn.preprocessing import QuantileTransformer\n",
    "from sklearn.decomposition import PCA\n",
    "from sklearn.pipeline import Pipeline"
   ]
  },
  {
   "cell_type": "code",
   "execution_count": 22,
   "id": "b59bc509",
   "metadata": {
    "scrolled": false
   },
   "outputs": [],
   "source": [
    "# paths\n",
    "FEATURES_PATH = Path(\n",
    "    \"/Users/jonathanfung/Library/Mobile Documents/com~apple~CloudDocs/\"\n",
    "    \"UCL MSc DSML/MSc Project/data/processed/features_v4.parquet\"\n",
    ")\n",
    "MODEL_OUT  = FEATURES_PATH.parent / \"attractiveness_score_artifacts\" / \"attractiveness_score_model.pkl\"\n",
    "\n",
    "df = pd.read_parquet(FEATURES_PATH)"
   ]
  },
  {
   "cell_type": "code",
   "execution_count": 23,
   "id": "2aea9a27",
   "metadata": {},
   "outputs": [],
   "source": [
    "# Derive activate probability\n",
    "df[\"active_prob\"] = 1 - df[\"placebo_flag\"] / df[\"num_arms\"].replace(0, np.nan)\n",
    "df[\"active_prob\"] = df[\"active_prob\"].fillna(1)"
   ]
  },
  {
   "cell_type": "code",
   "execution_count": 24,
   "id": "d21932a0",
   "metadata": {},
   "outputs": [],
   "source": [
    "# Feature list\n",
    "design_cols = [\n",
    "    \"active_prob\",\n",
    "    \"assessments_n\",\n",
    "    \"elig_crit_n\",\n",
    "    \"novelty_score\",\n",
    "    \"# patients\",\n",
    "    \"num_arms\",\n",
    "]\n"
   ]
  },
  {
   "cell_type": "code",
   "execution_count": 25,
   "id": "60e7f447",
   "metadata": {},
   "outputs": [],
   "source": [
    "# pipeline\n",
    "pipe = Pipeline(\n",
    "    [\n",
    "        (\"imp\",  SimpleImputer(strategy=\"median\")),\n",
    "        (\"rank\", QuantileTransformer(output_distribution=\"uniform\")),\n",
    "        (\"pca\",  PCA(n_components=1, random_state=0)),\n",
    "    ]\n",
    ")\n",
    "\n",
    "z = pipe.fit_transform(df[design_cols]).ravel()    # (n_samples,)\n"
   ]
  },
  {
   "cell_type": "code",
   "execution_count": 26,
   "id": "20cc06fb",
   "metadata": {},
   "outputs": [
    {
     "name": "stdout",
     "output_type": "stream",
     "text": [
      "Saved model → /Users/jonathanfung/Library/Mobile Documents/com~apple~CloudDocs/UCL MSc DSML/MSc Project/data/processed/attractiveness_score_artifacts/attractiveness_score_model.pkl\n",
      "  ↳ loadings written to /Users/jonathanfung/Library/Mobile Documents/com~apple~CloudDocs/UCL MSc DSML/MSc Project/data/processed/attractiveness_score_artifacts/attractiveness_score_model.json\n"
     ]
    }
   ],
   "source": [
    "artefact = dict(\n",
    "    pipeline = pipe,\n",
    "    Smin     = float(z.min()),\n",
    "    Smax     = float(z.max()),\n",
    "    design   = design_cols,   \n",
    ")\n",
    "\n",
    "with open(MODEL_OUT, \"wb\") as f:\n",
    "    pickle.dump(artefact, f)\n",
    "\n",
    "print(\"Saved model →\", MODEL_OUT)\n",
    "\n",
    "# dump weights to JSON for inspection\n",
    "weights = pd.Series(\n",
    "    pipe.named_steps[\"pca\"].components_[0],\n",
    "    index=design_cols\n",
    ")\n",
    "\n",
    "JSON_OUT = MODEL_OUT.with_suffix(\".json\")\n",
    "weights.round(6).to_json(JSON_OUT, indent=2)   \n",
    "print(\"  ↳ loadings written to\", JSON_OUT)\n"
   ]
  },
  {
   "cell_type": "code",
   "execution_count": 27,
   "id": "56df559c",
   "metadata": {},
   "outputs": [
    {
     "data": {
      "image/png": "[encoded data removed]",
      "text/plain": [
       "<Figure size 640x480 with 1 Axes>"
      ]
     },
     "metadata": {},
     "output_type": "display_data"
    }
   ],
   "source": [
    "#Visual check disstribution\n",
    "score = 100 * (z - artefact[\"Smin\"]) / (artefact[\"Smax\"] - artefact[\"Smin\"])\n",
    "plt.hist(score, bins=30); plt.title(\"Attractiveness 0-100\"); plt.show()"
   ]
  },
  {
   "cell_type": "code",
   "execution_count": null,
   "id": "4fd1035e",
   "metadata": {},
   "outputs": [],
   "source": []
  },
  {
   "cell_type": "code",
   "execution_count": null,
   "id": "4564df75",
   "metadata": {},
   "outputs": [],
   "source": []
  },
  {
   "cell_type": "code",
   "execution_count": null,
   "id": "f0d62e30",
   "metadata": {},
   "outputs": [],
   "source": []
  }
 ],
 "metadata": {
  "kernelspec": {
   "display_name": "Python 3 (ipykernel)",
   "language": "python",
   "name": "python3"
  },
  "language_info": {
   "codemirror_mode": {
    "name": "ipython",
    "version": 3
   },
   "file_extension": ".py",
   "mimetype": "text/x-python",
   "name": "python",
   "nbconvert_exporter": "python",
   "pygments_lexer": "ipython3",
   "version": "3.11.4"
  }
 },
 "nbformat": 4,
 "nbformat_minor": 5
}
