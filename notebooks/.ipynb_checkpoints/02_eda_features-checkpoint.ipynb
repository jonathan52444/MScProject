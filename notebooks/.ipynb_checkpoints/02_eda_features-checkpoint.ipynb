{
 "cells": [
  {
   "cell_type": "markdown",
   "id": "f3c388f0",
   "metadata": {},
   "source": [
    "Filters: <br>\n",
    "-discard studies before 2000\n",
    "-discard studies < 10 participants (plus studies with unknown no. of participants) \n",
    "-discard trials > 10 years \n"
   ]
  },
  {
   "cell_type": "code",
   "execution_count": null,
   "id": "505b41a4",
   "metadata": {},
   "outputs": [],
   "source": []
  },
  {
   "cell_type": "code",
   "execution_count": null,
   "id": "957a4648",
   "metadata": {},
   "outputs": [],
   "source": []
  }
 ],
 "metadata": {
  "kernelspec": {
   "display_name": "Python 3 (ipykernel)",
   "language": "python",
   "name": "python3"
  },
  "language_info": {
   "codemirror_mode": {
    "name": "ipython",
    "version": 3
   },
   "file_extension": ".py",
   "mimetype": "text/x-python",
   "name": "python",
   "nbconvert_exporter": "python",
   "pygments_lexer": "ipython3",
   "version": "3.11.4"
  }
 },
 "nbformat": 4,
 "nbformat_minor": 5
}
