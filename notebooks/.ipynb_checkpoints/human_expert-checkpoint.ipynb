{
 "cells": [
  {
   "cell_type": "code",
   "execution_count": 2,
   "id": "d346508b",
   "metadata": {},
   "outputs": [
    {
     "name": "stdout",
     "output_type": "stream",
     "text": [
      "Study no  NCT CT.gov  manual_days  actual_days  delta_days  abs_error_years\n",
      "  PS0041 NCT06011733        565.0          463      -102.0         0.279452\n",
      "  UP0119 NCT05292131        314.0          298       -16.0         0.043836\n",
      "  AS0010 NCT03928704       1069.0         1453       384.0         1.052055\n",
      "  AS0011 NCT03928743       1001.0         1201       200.0         0.547945\n",
      "  HS0003 NCT04242446       1099.0         1096        -3.0         0.008219\n",
      "  HS0004 NCT04242498       1096.0          940      -156.0         0.427397\n",
      "  PS0015 NCT03536884        811.0         1883      1072.0         2.936986\n",
      "  PS0032 NCT05020249        441.0          344       -97.0         0.265753\n",
      "  EP0231 NCT06312566        186.0           71      -115.0         0.315068\n",
      "  RA0043 NCT01550003       1447.0         4414      2967.0         8.128767\n",
      "  RA0138 NCT04740814        504.0          501        -3.0         0.008219\n",
      "  UP0085 NCT04163016        738.0         1068       330.0         0.904110\n",
      "  SL0043 NCT04294667        975.0         1392       417.0         1.142466\n",
      "  UP0118 NCT06315335        139.0          184        45.0         0.123288\n",
      "  UP0089 NCT04643457       -551.0         1287      1838.0         5.035616\n",
      "\n",
      "Mean absolute error (first 15 studies): 1.41 years  ≈ 516 days\n"
     ]
    }
   ],
   "source": [
    "import pandas as pd\n",
    "pd.set_option('display.width', None)         # show full rows\n",
    "pd.set_option('display.max_columns', None)   # show all columns\n",
    "\n",
    "FILE        = \"data/2025_ListofStudiesforPlanning.xlsx\"\n",
    "SHEET       = \"selection\"\n",
    "HEADER_ROW  = 3                               # row 4 in Excel\n",
    "\n",
    "# 1 ─ read the data\n",
    "df = pd.read_excel(FILE, sheet_name=SHEET, header=HEADER_ROW)\n",
    "\n",
    "# 2 ─ date columns → datetime\n",
    "for col in [\"FPFV original date\", \"LPLV original date\",\n",
    "            \"FPFV actual date\",  \"LPLV actual date\"]:\n",
    "    df[col] = pd.to_datetime(df[col], errors=\"coerce\")\n",
    "\n",
    "# 3 ─ durations\n",
    "df[\"manual_days\"] = (df[\"LPLV original date\"] - df[\"FPFV original date\"]).dt.days\n",
    "df[\"actual_days\"] = (df[\"LPLV actual date\"]  - df[\"FPFV actual date\"]).dt.days\n",
    "df[\"delta_days\"]  = df[\"actual_days\"] - df[\"manual_days\"]\n",
    "\n",
    "# 4 ─ **absolute** error in years  (always positive)\n",
    "df[\"abs_error_years\"] = df[\"delta_days\"].abs() / 365\n",
    "\n",
    "# keep useful cols and rows with both durations present\n",
    "cols     = [\"Study no\",\"NCT CT.gov\",\"manual_days\",\"actual_days\",\"delta_days\",\"abs_error_years\"]\n",
    "complete = df.dropna(subset=[\"manual_days\",\"actual_days\"])[cols]\n",
    "\n",
    "# first 15 studies\n",
    "first15 = complete.head(15)\n",
    "print(first15.to_string(index=False))\n",
    "\n",
    "# mean absolute error for those 15\n",
    "mae_years = first15[\"abs_error_years\"].mean()\n",
    "mae_days  = mae_years * 365\n",
    "print(f\"\\nMean absolute error (first 15 studies): \"\n",
    "      f\"{mae_years:.2f} years  ≈ {mae_days:.0f} days\")\n"
   ]
  },
  {
   "cell_type": "code",
   "execution_count": null,
   "id": "7539cf4d",
   "metadata": {},
   "outputs": [],
   "source": []
  }
 ],
 "metadata": {
  "kernelspec": {
   "display_name": "Python 3 (ipykernel)",
   "language": "python",
   "name": "python3"
  },
  "language_info": {
   "codemirror_mode": {
    "name": "ipython",
    "version": 3
   },
   "file_extension": ".py",
   "mimetype": "text/x-python",
   "name": "python",
   "nbconvert_exporter": "python",
   "pygments_lexer": "ipython3",
   "version": "3.11.4"
  }
 },
 "nbformat": 4,
 "nbformat_minor": 5
}
