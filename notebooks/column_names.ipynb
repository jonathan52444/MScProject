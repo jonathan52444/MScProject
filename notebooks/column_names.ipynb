{
 "cells": [
  {
   "cell_type": "markdown",
   "id": "cf31f6fa",
   "metadata": {},
   "source": [
    "# Check names of column"
   ]
  },
  {
   "cell_type": "code",
   "execution_count": null,
   "id": "688de1e0",
   "metadata": {
    "scrolled": true
   },
   "outputs": [
    {
     "name": "stdout",
     "output_type": "stream",
     "text": [
      "Requirement already satisfied: pyarrow in /Users/jonathanfung/anaconda3/lib/python3.11/site-packages (11.0.0)\n",
      "Requirement already satisfied: numpy>=1.16.6 in /Users/jonathanfung/anaconda3/lib/python3.11/site-packages (from pyarrow) (1.24.4)\n",
      "Note: you may need to restart the kernel to use updated packages.\n",
      "Shape (rows, cols): (542076, 29)\n",
      "\n",
      "Column names:\n",
      "['indication/disease area', 'rare, non-rare (established disease area and clear diagnosis criteria)', 'mode of administration (ex. NBE, NCE, iv vs pill)', 'disease modifying or treating symptoms', 'population - adults vs peds', 'phase', '# patients', 'primary_outcomes', 'secondary_outcomes', 'other_outcomes', 'cohorts (sequential or parallel)', 'Eligibility Criteria: The stringency and number of eligibility criteria for participants', 'placebo included', '# safety cuts, DMCs', '# sites', 'Study Start Date', 'Primary Completion Date', 'mask level ', 'sponsorship type', 'study type', 'minimum age', 'maximum age', 'Allocation (Randomised / Non-randomised)', 'FDA-regulated drug', 'FDA-regulated device', 'Primary Completion Type', 'Overall status', 'Number of arms', 'NCT']\n",
      "\n",
      "DataFrame info:\n"
     ]
    }
   ],
   "source": [
    "%pip install pyarrow\n",
    "\n",
    "import pandas as pd\n",
    "\n",
    "flat_path = \"/Users/jonathanfung/Library/Mobile Documents/com~apple~CloudDocs/UCL MSc DSML/MSc Project/data/interim/ctgov_flat.parquet\"\n",
    "\n",
    "# Load the DataFrame\n",
    "df = pd.read_parquet(flat_path)\n",
    "\n",
    "# Inspect basic shape and structure\n",
    "print(\"Shape (rows, cols):\", df.shape)     \n",
    "print(\"\\nColumn names:\")\n",
    "print(df.columns.tolist())      \n",
    "\n",
    "# Quick info on dtypes and non-null counts\n",
    "print(\"\\nDataFrame info:\")\n",
    "df.info()\n",
    "\n",
    "# Peek at the top rows\n",
    "print(\"\\nFirst 5 rows:\")\n",
    "df.head()\n",
    "\n",
    "# Summary statistics\n",
    "print(\"\\nNumeric summary:\")\n",
    "df.describe()\n",
    "\n",
    "print(\"\\nAll-columns summary:\")\n",
    "df.describe(include='all')           \n",
    "\n",
    "# Value counts for a key categorical field\n",
    "if \"overall_status\" in df.columns:\n",
    "    print(\"\\nCounts of overall_status:\")\n",
    "    print(df[\"overall_status\"].value_counts())\n"
   ]
  }
 ],
 "metadata": {
  "kernelspec": {
   "display_name": "Python 3 (ipykernel)",
   "language": "python",
   "name": "python3"
  },
  "language_info": {
   "codemirror_mode": {
    "name": "ipython",
    "version": 3
   },
   "file_extension": ".py",
   "mimetype": "text/x-python",
   "name": "python",
   "nbconvert_exporter": "python",
   "pygments_lexer": "ipython3",
   "version": "3.11.4"
  }
 },
 "nbformat": 4,
 "nbformat_minor": 5
}
